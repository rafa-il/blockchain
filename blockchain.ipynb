{
 "cells": [
  {
   "cell_type": "markdown",
   "metadata": {},
   "source": [
    "# BlockChain\n",
    "<img src=\"files/pics/blockchain.png\">"
   ]
  },
  {
   "cell_type": "markdown",
   "metadata": {},
   "source": [
    "Το παρόν αρχείο είναι επιπρόσθετο της εργασίας για το μάθημα Πληροφοριακά Συστήματα.\n",
    "Σε γλώσσα Python θα παρουσιαστεί μια απλή μορφή blockchain.\n",
    "Ο σκοπός είναι να βοηθήσει στην καλύτερη κατανόηση λειτουργίας του."
   ]
  },
  {
   "cell_type": "markdown",
   "metadata": {},
   "source": [
    "Θα ξεκινήσουμε κάνοντας import τις βιβλιοθήκες που θα χρειαστούμε."
   ]
  },
  {
   "cell_type": "code",
   "execution_count": 1,
   "metadata": {},
   "outputs": [],
   "source": [
    "import hashlib\n",
    "import json\n",
    "from time import time"
   ]
  },
  {
   "cell_type": "markdown",
   "metadata": {},
   "source": [
    "Όλη η αλυσίδα θα πραγματοποιηθεί με ένα class, πριν το δούμε ολοκληρωμένο θα δούμε ένα ένα τα function. "
   ]
  },
  {
   "cell_type": "code",
   "execution_count": 2,
   "metadata": {},
   "outputs": [],
   "source": [
    "def __init__(self):\n",
    "    self.chain = []  #an empty list that we’ll add blocks to\n",
    "    self.pending_transactions = [] \n",
    "    #when users send our coins to each other, \n",
    "    #their transactions will sit in this array until we approve & add them to a new block.\n",
    "    \n",
    "    self.new_block(previous_hash=\"first hash\", proof=100)"
   ]
  },
  {
   "cell_type": "markdown",
   "metadata": {},
   "source": [
    "Όταν δημιουργούμε μια αλυσίδα, ταυτόχρονα δημιουργούνται δύο λίστες, η μία είναι η λίστα στην οποία θα αποθηκεύουμε \n",
    "κάθε νέο block και στη δεύτερη αποθηκέυονται οι συναλλαγές που είναι στην ουρά για να μπουν σε block. Την πρώτη φορά δεν υπάρχει προηγούμενο hash ώστε το πρώτο block να το συμπεριλάβει στο hash function. Έτσι κάνουμε hardcode ένα hash. "
   ]
  },
  {
   "cell_type": "code",
   "execution_count": 3,
   "metadata": {},
   "outputs": [],
   "source": [
    "def new_block(self, proof, previous_hash=None):\n",
    "    block = {\n",
    "    'index':len(self.chain)+1,\n",
    "    'timestamp': time(),\n",
    "    'transactions':self.pending_transactions,\n",
    "    'nonce':proof,\n",
    "    'previous_hash': previous_hash or self.hash(self.chain[-1])\n",
    "    }\n",
    "    self.pending_transactions = []\n",
    "    self.chain.append(block)"
   ]
  },
  {
   "cell_type": "markdown",
   "metadata": {},
   "source": [
    "Το παραπάνω function δημιουργεί το καινούργιο block. Οι πληροφορίες κάθε block εμφανίζονται με τα κόκκινα.\n",
    "Να υπενθυμίσω ότι το nonce είναι ο αριθμός που προσθέτεται στο hash function ώστε να βγάλουμε τα μηδενικά που απαιτούνται στο νεό hash. Επειδή αυτό είναι πολύπλοκο μαθηματικά δεν θα εφαρμοστεί σε αυτό το παράδειγμα."
   ]
  },
  {
   "cell_type": "code",
   "execution_count": 4,
   "metadata": {},
   "outputs": [],
   "source": [
    "def new_transaction(self, sender, recipient, amount):\n",
    "    transaction = {\n",
    "    'sender': sender,\n",
    "    'recipient':recipient,\n",
    "    'amount':amount\n",
    "    }\n",
    "    self.pending_transactions.append(transaction)\n",
    "    return self.last_block['index'] + 1\n",
    "    \n",
    "def hash(self, block):\n",
    "    string_object = json.dumps(block, sort_keys=True)\n",
    "    block_string = string_object.encode()\n",
    "\n",
    "    raw_hash = hashlib.sha256(block_string)\n",
    "    hex_hash = raw_hash.hexdigest()\n",
    "    \n",
    "    return hex_hash"
   ]
  },
  {
   "cell_type": "markdown",
   "metadata": {},
   "source": [
    "Εδώ έχουμε δύο function, το πρώτο δημιουργεί μια συναλλαγή και την προσθέτει στην λίστα προς έγκρηση συναλλαγών.\n",
    "\n",
    "Η δέυτερη δημιουργεί το hash. Αυτό που κάνω είναι το dictionary, το μετρατρέπω σε str μέσω json και έπειτα βγάζω το hash, γι' αυτό το str χρησιμοποιώντας sha256."
   ]
  },
  {
   "cell_type": "markdown",
   "metadata": {},
   "source": [
    "Παρακάτω θα τα δούμε όλα μαζί. Δεν χρειάζεται να τρέξετε όλα τα κελιά παραπάνω, αρκεί μόνο τα απο εδώ και κάτω."
   ]
  },
  {
   "cell_type": "code",
   "execution_count": 5,
   "metadata": {},
   "outputs": [],
   "source": [
    "import hashlib\n",
    "import json\n",
    "from time import time\n",
    "\n",
    "class Blockshain(object):\n",
    "    def __init__(self):\n",
    "        self.chain = []  #an empty list that we’ll add blocks to\n",
    "        self.pending_transactions = [] \n",
    "        #when users send our coins to each other, their transactions will sit in this array until we approve & add them to a new block.\n",
    "        self.new_block(previous_hash=\"First Hash\", proof=100)\n",
    "    \n",
    "    def new_block(self, proof, previous_hash=None):\n",
    "        block = {\n",
    "            'index':len(self.chain)+1,\n",
    "            'timestamp': time(),\n",
    "            'transactions':self.pending_transactions,\n",
    "            'nonce':proof,\n",
    "            'previous_hash': previous_hash or self.hash(self.chain[-1])\n",
    "                }\n",
    "        self.pending_transactions = []\n",
    "        self.chain.append(block)\n",
    "\n",
    "    @property\n",
    "    def last_block(self):\n",
    "        return self.chain[-1]\n",
    "\n",
    "    def new_transaction(self, sender, recipient, amount):\n",
    "        transaction = {\n",
    "            'sender': sender,\n",
    "            'recipient':recipient,\n",
    "            'amount':amount\n",
    "                        }\n",
    "        self.pending_transactions.append(transaction)\n",
    "        return self.last_block['index'] + 1\n",
    "    \n",
    "    def hash(self, block):\n",
    "        string_object = json.dumps(block, sort_keys=True)\n",
    "        block_string = string_object.encode()\n",
    "        \n",
    "        raw_hash = hashlib.sha256(block_string)\n",
    "        hex_hash = raw_hash.hexdigest()\n",
    "        \n",
    "        return hex_hash\n"
   ]
  },
  {
   "cell_type": "markdown",
   "metadata": {},
   "source": [
    "Τώρα ας δημιουργήσουμε την αλυσίδα και μερικά blocks.\n",
    "\n",
    "Μπορείτε να προσθέσετε και άλλες δικές σας συναλλαγές."
   ]
  },
  {
   "cell_type": "code",
   "execution_count": 6,
   "metadata": {},
   "outputs": [],
   "source": [
    "blockchain = Blockshain() #δημιουργία αλυσίδας\n",
    "\n",
    "t1 = blockchain.new_transaction('Rafail', 'Savvas', '10 BTC')\n",
    "t2 = blockchain.new_transaction('Savvas', 'Stathis', '2 BTC')\n",
    "t3 = blockchain.new_transaction('Stathis', 'Rafail', '50 BTC')\n",
    "\n",
    "blockchain.new_block(12345) # δημιουργία του πρώτου block, προσθέτουμε το nonce \n",
    "\n",
    "t4 = blockchain.new_transaction('Zacharenia', 'Rafail', '0.5 BTC')\n",
    "t5 = blockchain.new_transaction('Stathis', 'Rafail', '8 BTC')\n",
    "t6 = blockchain.new_transaction('Zacharenia', 'Savvas', '3 BTC')\n",
    "\n",
    "blockchain.new_block(67894)\n",
    "\n"
   ]
  },
  {
   "cell_type": "markdown",
   "metadata": {},
   "source": [
    "Ας εμφανίσουμε την μέχρι τώρα αλυσίδα."
   ]
  },
  {
   "cell_type": "code",
   "execution_count": 7,
   "metadata": {},
   "outputs": [
    {
     "name": "stdout",
     "output_type": "stream",
     "text": [
      "[\n",
      "    {\n",
      "        \"index\": 1,\n",
      "        \"timestamp\": 1607098135.411665,\n",
      "        \"transactions\": [],\n",
      "        \"nonce\": 100,\n",
      "        \"previous_hash\": \"First Hash\"\n",
      "    },\n",
      "    {\n",
      "        \"index\": 2,\n",
      "        \"timestamp\": 1607098135.411829,\n",
      "        \"transactions\": [\n",
      "            {\n",
      "                \"sender\": \"Rafail\",\n",
      "                \"recipient\": \"Savvas\",\n",
      "                \"amount\": \"10 BTC\"\n",
      "            },\n",
      "            {\n",
      "                \"sender\": \"Savvas\",\n",
      "                \"recipient\": \"Stathis\",\n",
      "                \"amount\": \"2 BTC\"\n",
      "            },\n",
      "            {\n",
      "                \"sender\": \"Stathis\",\n",
      "                \"recipient\": \"Rafail\",\n",
      "                \"amount\": \"50 BTC\"\n",
      "            }\n",
      "        ],\n",
      "        \"nonce\": 12345,\n",
      "        \"previous_hash\": \"7ef2583b32c0a65a2aab3f43e0586c8726b55fb66a9ffda6aeeee7a1016eddea\"\n",
      "    },\n",
      "    {\n",
      "        \"index\": 3,\n",
      "        \"timestamp\": 1607098135.41204,\n",
      "        \"transactions\": [\n",
      "            {\n",
      "                \"sender\": \"Zacharenia\",\n",
      "                \"recipient\": \"Rafail\",\n",
      "                \"amount\": \"0.5 BTC\"\n",
      "            },\n",
      "            {\n",
      "                \"sender\": \"Stathis\",\n",
      "                \"recipient\": \"Rafail\",\n",
      "                \"amount\": \"8 BTC\"\n",
      "            },\n",
      "            {\n",
      "                \"sender\": \"Zacharenia\",\n",
      "                \"recipient\": \"Savvas\",\n",
      "                \"amount\": \"3 BTC\"\n",
      "            }\n",
      "        ],\n",
      "        \"nonce\": 67894,\n",
      "        \"previous_hash\": \"ebf886cab523becf6eb74d04bd483853ab48832582b729748548f54cec243f19\"\n",
      "    }\n",
      "]\n"
     ]
    }
   ],
   "source": [
    "y = json.dumps(blockchain.chain, indent=4)\n",
    "print(y)"
   ]
  },
  {
   "cell_type": "markdown",
   "metadata": {},
   "source": []
  }
 ],
 "metadata": {
  "kernelspec": {
   "display_name": "Python 3",
   "language": "python",
   "name": "python3"
  },
  "language_info": {
   "codemirror_mode": {
    "name": "ipython",
    "version": 3
   },
   "file_extension": ".py",
   "mimetype": "text/x-python",
   "name": "python",
   "nbconvert_exporter": "python",
   "pygments_lexer": "ipython3",
   "version": "3.8.3"
  }
 },
 "nbformat": 4,
 "nbformat_minor": 4
}
